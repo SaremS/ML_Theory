{
 "cells": [
  {
   "cell_type": "markdown",
   "metadata": {},
   "source": [
    "## Convergence in distribution:  \n",
    "\n",
    "Let $F_n(x)$ be the cdf corresponding to r.v. $X_n$ at point $x\\in\\mathcal{X}$, then convergence in distribution is defined as:\n",
    "\n",
    "$$\\lim_{n\\rightarrow\\infty}F_n(x)=F(x)$$  \n",
    "<br>\n",
    "\n",
    "## Convergence in probability:  \n",
    "\n",
    "For all $\\epsilon>0$ we have:\n",
    "\n",
    "$$\\lim_{n\\rightarrow\\infty}\\mathbb{P}(|X_n-X|>\\epsilon)=0$$  \n",
    "<br>  \n",
    "\n",
    "## Almost sure convergence:  \n",
    "\n",
    "$$\\mathbb{P}(\\lim_{n\\rightarrow\\infty}X_n=X)=1$$  \n",
    "<br>\n",
    "\n",
    "## Convergence in mean\n",
    "\n",
    "If $\\mathbb{E}\\left[|X_n|^r\\right]$ and $\\mathbb{E}\\left[|X|^r\\right]$ exist, $X_n$ converges to $X$ in the r-th mean if  \n",
    "\n",
    "$$\\lim_{n\\rightarrow\\infty}\\mathbb{E}\\left[|X_n-X|^r\\right]=0$$  \n",
    "Where the most common case is $r=2$ (\"convergence in mean-square\")"
   ]
  }
 ],
 "metadata": {
  "kernelspec": {
   "display_name": "Julia 1.4.2",
   "language": "julia",
   "name": "julia-1.4"
  },
  "language_info": {
   "file_extension": ".jl",
   "mimetype": "application/julia",
   "name": "julia",
   "version": "1.4.2"
  }
 },
 "nbformat": 4,
 "nbformat_minor": 4
}
