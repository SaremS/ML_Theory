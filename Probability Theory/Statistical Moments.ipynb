{
 "cells": [
  {
   "cell_type": "markdown",
   "metadata": {},
   "source": [
    "## Univariate case:  \n",
    "\n",
    "\n",
    "- r-th moment of a r.v. $X$:  \n",
    "\n",
    "$$m_r(X)=\\mathbb{E}\\left[X^r\\right]$$  \n",
    "\n",
    "- r-th absolute moment of a r.v. $X$:  \n",
    "\n",
    "$$M_r(X)=\\mathbb{E}\\left[|X|^r\\right]$$  \n",
    "\n",
    "- r-th central moment of a r.v. $X$:  \n",
    "\n",
    "$$\\mu_r(X)=\\mathbb{E}\\left[(X-\\mu_X)^r\\right]$$  \n",
    "\n",
    "- r-th central absolute moment of a r.v. $X$:  \n",
    "\n",
    "$$\\mu_r(X)=\\mathbb{E}\\left[|X-\\mu_X|^r\\right]$$\n",
    "\n",
    "\n",
    "## Multivariate case:  \n",
    "\n",
    "- r-th and s-th joint moment of r.v. $X$ and $Y$:  \n",
    "\n",
    "$$m_{rs}=\\mathbb{E}_{XY}\\left[X^rY^s\\right]$$  \n",
    "\n",
    "- r-th and s-th joint central moment of r.v. $X$ and $Y$:  \n",
    "\n",
    "$$\\mu_{rs}=\\mathbb{E}_{XY}\\left[(X-\\mu_X)^r(Y-\\mu_Y)^s\\right]$$ "
   ]
  }
 ],
 "metadata": {
  "kernelspec": {
   "display_name": "Julia 1.4.2",
   "language": "julia",
   "name": "julia-1.4"
  },
  "language_info": {
   "file_extension": ".jl",
   "mimetype": "application/julia",
   "name": "julia",
   "version": "1.4.2"
  }
 },
 "nbformat": 4,
 "nbformat_minor": 4
}
