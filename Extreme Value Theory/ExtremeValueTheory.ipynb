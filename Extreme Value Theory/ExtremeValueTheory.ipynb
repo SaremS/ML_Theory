{
 "cells": [
  {
   "cell_type": "markdown",
   "metadata": {},
   "source": [
    "# Core ideas \n",
    "\n",
    "### Distribution of sample maximum  \n",
    "\n",
    "Given i.i.d. sample:  \n",
    "\n",
    "$$\\mathbb{P}(max(x_1,...,x_n)\\leq x)=F^n(x)$$  \n",
    "\n",
    "<br>  \n",
    "\n",
    "### Foundational concept of Extreme value theory  \n",
    "\n",
    "For a sequence of constants, $a_n>0, b_n\\in\\mathbb{T}$, we are interested in  \n",
    "\n",
    "$$\\frac{max(x_1,...,x_n)-b_n}{a_n}$$  \n",
    "\n",
    "and particularly  \n",
    "\n",
    "$$\\lim_{n\\rightarrow\\infty}F^n(a_nx+b_n)=G(x)$$  \n",
    "\n",
    "<br>\n",
    "\n",
    "### Relation sample minimum - sample maximum  \n",
    "\n",
    "$$min(x_1,...,x_n)=-max(-x_1,...,-x_n)$$  \n",
    "\n",
    "<br>\n",
    "\n",
    "### Alternatives formulations of the Limit Relation  \n",
    "\n",
    "Equivalently to the above, for each continuity point of x for which $0<G(x)<1$:  \n",
    "\n",
    "$$\\lim_{n\\rightarrow\\infty}n\\,log\\,F(a_nx+b_n)=log\\,G(x)$$  \n",
    "\n",
    "in order for this expression to converge, we can derive $F(a_nx+b_n)\\rightarrow1$ for all $x$ as above. From here, we obtain  \n",
    "\n",
    "\n",
    "$$\\lim_{n\\rightarrow\\infty}\\frac{-log F(a_n x + b_n)}{1-F(a_nx+b_n)}=1,$$  \n",
    "\n",
    "$$\\lim_{n\\rightarrow\\infty}n(1-F(a_nx+b_n))=-log\\,G(x)$$  \n",
    "\n",
    "and  \n",
    "\n",
    "$$\\lim_{n\\rightarrow\\infty}\\frac{1}{n(1-F(a_nx+b_n))}=\\frac{1}{-log\\,G(x)}$$  \n",
    "\n",
    "### Left-continuous inverse  \n",
    "\n",
    "For any nondecreasing function $f$ denoty its left-continuous inverse as $f^\\leftarrow$, then  \n",
    "\n",
    "$$f^\\leftarrow(x):=inf\\{y:f(y)\\geq x\\}$$  "
   ]
  },
  {
   "cell_type": "markdown",
   "metadata": {},
   "source": [
    "# Sources\n",
    "- De Haan, Laurens, and Ana Ferreira. Extreme value theory: an introduction. Springer Science & Business Media, 2007."
   ]
  },
  {
   "cell_type": "code",
   "execution_count": null,
   "metadata": {},
   "outputs": [],
   "source": []
  }
 ],
 "metadata": {
  "kernelspec": {
   "display_name": "Julia 1.4.2",
   "language": "julia",
   "name": "julia-1.4"
  },
  "language_info": {
   "file_extension": ".jl",
   "mimetype": "application/julia",
   "name": "julia",
   "version": "1.4.2"
  }
 },
 "nbformat": 4,
 "nbformat_minor": 4
}
