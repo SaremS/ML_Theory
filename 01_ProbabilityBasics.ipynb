{
 "cells": [
  {
   "cell_type": "markdown",
   "metadata": {},
   "source": [
    "# Probability basics"
   ]
  },
  {
   "cell_type": "markdown",
   "metadata": {},
   "source": [
    "## Univariate case: \n",
    "\n",
    "Mean and variance of a random variable $X$ with density $p(x)$ and support $\\mathcal{X}$:  \n",
    "\n",
    "$$\\mathbb{E}\\left[X\\right]=\\int_{\\mathcal{X}}xp(x)dx\\quad(:=\\mu_X)$$  \n",
    "\n",
    "$$\\mathbb{V}ar\\left[X\\right]=\\int_{\\mathcal{X}}(x-\\mu_X)^2p(x)dx\\quad(:=\\sigma^2_X)$$\n",
    "\n",
    "Empirical estimators given samples $x_1,...,x_n$ drawn i.i.d. from $X$: \n",
    "$$\\hat{\\mu}_X=\\frac{1}{n}\\sum_{i=1}^nx_i\\quad(:=\\bar{x})$$  \n",
    "\n",
    "$$\\hat{\\sigma}_X^2=\\frac{1}{n-1}\\sum_{i=1}^n(x_i-\\bar{x})^2\\quad(:=s^2)$$"
   ]
  },
  {
   "cell_type": "markdown",
   "metadata": {},
   "source": [
    "# Statistical moments  "
   ]
  },
  {
   "cell_type": "markdown",
   "metadata": {},
   "source": [
    "## Univariate case:  \n",
    "\n",
    "\n",
    "- r-th moment of a r.v. $X$:  \n",
    "\n",
    "$$m_r(X)=\\mathbb{E}\\left[X^r\\right]$$  \n",
    "\n",
    "- r-th absolute moment of a r.v. $X$:  \n",
    "\n",
    "$$M_r(X)=\\mathbb{E}\\left[|X|^r\\right]$$  \n",
    "\n",
    "- r-th central moment of a r.v. $X$:  \n",
    "\n",
    "$$\\mu_r(X)=\\mathbb{E}\\left[(X-\\mu_X)^r\\right]$$  \n",
    "\n",
    "- r-th central absolute moment of a r.v. $X$:  \n",
    "\n",
    "$$\\mu_r(X)=\\mathbb{E}\\left[|X-\\mu_X|^r\\right]$$"
   ]
  },
  {
   "cell_type": "markdown",
   "metadata": {},
   "source": [
    "## Multivariate case:  \n",
    "\n",
    "- r-th and s-th joint moment of r.v. $X$ and $Y$:  \n",
    "\n",
    "$$m_{rs}=\\mathbb{E}_{XY}\\left[X^rY^s\\right]$$  \n",
    "\n",
    "- r-th and s-th joint central moment of r.v. $X$ and $Y$:  \n",
    "\n",
    "$$\\mu_{rs}=\\mathbb{E}_{XY}\\left[(X-\\mu_X)^r(Y-\\mu_Y)^s\\right]$$ "
   ]
  },
  {
   "cell_type": "markdown",
   "metadata": {},
   "source": [
    "# Convergence of a series of random variables"
   ]
  },
  {
   "cell_type": "markdown",
   "metadata": {},
   "source": [
    "## 1) Convergence in distribution:  \n",
    "\n",
    "Let $F_n(x)$ be the cdf corresponding to r.v. $X_n$ at point $x\\in\\mathcal{X}$, then convergence in distribution is defined as:\n",
    "\n",
    "$$\\lim_{n\\rightarrow\\infty}F_n(x)=F(x)$$"
   ]
  },
  {
   "cell_type": "markdown",
   "metadata": {},
   "source": [
    "## 2) Convergence in probability:  \n",
    "\n",
    "For all $\\epsilon>0$ we have:\n",
    "\n",
    "$$\\lim_{n\\rightarrow\\infty}\\mathbb{P}(|X_n-X|>\\epsilon)=0$$"
   ]
  },
  {
   "cell_type": "markdown",
   "metadata": {},
   "source": [
    "## 3) Almost sure convergence:  \n",
    "\n",
    "$$\\mathbb{P}(\\lim_{n\\rightarrow\\infty}X_n=X)=1$$"
   ]
  },
  {
   "cell_type": "markdown",
   "metadata": {},
   "source": [
    "## 4) Convergence in mean\n",
    "\n",
    "If $\\mathbb{E}\\left[|X_n|^r\\right]$ and $\\mathbb{E}\\left[|X|^r\\right]$ exist, $X_n$ converges to $X$ in the r-th mean if  \n",
    "\n",
    "$$\\lim_{n\\rightarrow\\infty}\\mathbb{E}\\left[|X_n-X|^r\\right]=0$$  \n",
    "Where the most common case is $r=2$ (\"convergence in mean-square\")"
   ]
  },
  {
   "cell_type": "markdown",
   "metadata": {},
   "source": [
    "# Important inequalities"
   ]
  },
  {
   "cell_type": "markdown",
   "metadata": {},
   "source": [
    "## Markov's Inequality:  \n",
    "\n",
    "**Proposition:** Let $X$ be a random variable with $X\\geq0$. Then for any positive real number $a$ and if $\\mathbb{E}\\left[X\\right]$ exists:  \n",
    "\n",
    "$$\\mathbb{P}(X\\geq a)\\leq\\frac{\\mathbb{E}\\left[X\\right]}{a}$$  \n",
    "\n",
    "**Proof** By definition, we have $\\mathbb{E}\\left[X\\right]=\\int_{\\mathcal{X}}xp(x)dx$, which we can split as  \n",
    "\n",
    "$$\\mathbb{E}\\left[X\\right]=\\int_{x\\geq a}xp(x)dx+\\int_{x< a}xp(x)dx$$  \n",
    "\n",
    "and since by assumption $x\\geq0$, we have  \n",
    "\n",
    "$$\\geq \\int_{x\\geq a}ap(x)dx=a\\cdot\\int_{x\\geq a}p(x)dx$$  \n",
    "$$=a\\cdot\\mathbb{P}(X\\geq a)\\quad\\quad\\square$$"
   ]
  },
  {
   "cell_type": "markdown",
   "metadata": {},
   "source": [
    "## Chebyshev's Inequality  \n",
    "**Proposition** Let $X$ be any random variable with finite mean and variance, then for any positive real $a$, we have:  \n",
    "<br>\n",
    "$$\\mathbb{P}(|X-\\mathbb{E}(X)|\\geq a)\\leq \\frac{\\mathbb{V}ar(X)}{a^2}$$\n",
    "<br>\n",
    "**Proof** Let $Y=(X-\\mathbb{E}\\left[X\\right])^2$ - $Y$ is therefore non-negative with $\\mathbb{E}\\left[Y\\right]=\\mathbb{V}ar(X)$. Then use Markov's inequality to obtain  \n",
    "<br>\n",
    "$$\\mathbb{P}(Y\\geq a^2)\\leq\\frac{\\mathbb{E}\\left[Y\\right]}{a^2}=\\frac{\\mathbb{V}ar(X)}{a^2}$$\n",
    "<br>\n",
    "taking the square root of on the LHS, we get  \n",
    "\n",
    "$$\\mathbb{P}(Y\\geq a^2)=\\mathbb{P}((X-\\mathbb{E}\\left[X\\right])^2\\geq a^2)$$  \n",
    "$$=\\mathbb{P}(|X-\\mathbb{E}\\left[X\\right]|\\geq a)$$  \n",
    "\n",
    "and the result follows from plugging in into the inequality above  $\\quad\\quad\\square$"
   ]
  },
  {
   "cell_type": "markdown",
   "metadata": {},
   "source": [
    "## Chernoff's inequality  \n",
    "\n",
    "TBD"
   ]
  },
  {
   "cell_type": "markdown",
   "metadata": {},
   "source": [
    "# Bonus: Degeneracy of the Cauchy-Distribution  \n",
    "\n",
    "The pdf of a (standard) Cauchy-Distribution is  \n",
    "\n",
    "$$p(x)=\\frac{1}{\\pi(1+x^2)}$$  \n",
    "\n",
    "Hence, the mean calculates as  \n",
    "\n",
    "$$\\mathbb{E}\\left[X\\right]=\\int_{-\\infty}^{\\infty}x\\frac{1}{\\pi(1+x^2)}dx=\\frac{1}{2\\pi}log(1+x^2)\\Big|^\\infty_{-\\infty}=\\infty-\\infty$$  \n",
    "\n",
    "which is an undefined expression and the distribution does not have a mean. Any higher moments are also undefined which shows the limitations of statistical moments. "
   ]
  }
 ],
 "metadata": {
  "kernelspec": {
   "display_name": "Julia 1.4.2",
   "language": "julia",
   "name": "julia-1.4"
  },
  "language_info": {
   "file_extension": ".jl",
   "mimetype": "application/julia",
   "name": "julia",
   "version": "1.4.2"
  }
 },
 "nbformat": 4,
 "nbformat_minor": 4
}
