{
 "cells": [
  {
   "cell_type": "markdown",
   "metadata": {},
   "source": [
    "# PAC learning"
   ]
  },
  {
   "cell_type": "markdown",
   "metadata": {},
   "source": [
    "## Basic definitions:  \n",
    "\n",
    "- **Input** and **Output** spaces $\\mathcal{X}, \\mathcal{Y}\\in\\{0,1\\}$\n",
    "- **Concept** $c:\\mathcal{X}\\rightarrow\\mathcal{Y}$ \n",
    "- **Concept Class** $\\mathcal{C}\\ni c$ as set of concepts to learn\n",
    "- **Hypothesis set** $\\mathcal{H}$ = **fixed** set of possible concepts (not necessarily coinciding with $\\mathcal{C}$  \n",
    "\n",
    "<br>\n",
    "<br>\n",
    "<br>\n",
    "\n",
    "**Definition Generalization error**: Given hypothesis $h\\in\\mathcal{H}$, target concept $c\\in\\mathcal{C}$ and underlying distribution $\\mathcal{D}$, the generalization error (risk) of $h$ is defined as  \n",
    "\n",
    "$$R(h)=\\underset{x\\sim\\mathcal{D}}{\\mathbb{P}}\\left[h(x)\\neq c(x)\\right]=$$  \n",
    "\n",
    "$$\\underset{x\\sim\\mathcal{D}}{\\mathbb{E}}\\left[\\mathbb{I}_{h(x)\\neq c(x)}(x)\\right]$$  \n",
    "\n",
    "where $\\mathbb{I}_A(x)$ denotes the indicator function for set $A$  \n",
    "\n",
    "$$\\mathbb{I}_A(x)=\\cases{        1       & $x\\in A$ \\cr\n",
    "                                 0       & $x\\notin A$}$$  \n",
    "\n",
    "<br>\n",
    "<br>\n",
    "<br>\n",
    "\n",
    "**Definition Empirical error**: Given hypothesis $h\\in\\mathcal{H}$, target concept $c\\in\\mathcal{C}$ and sample $\\mathcal{S}=(x_1,...,x_n)$, the empirical error (empirical risk) of $h$ is defined as  \n",
    "\n",
    "$$\\hat{R}_\\mathcal{S}(h)=\\frac{1}{n}\\sum_{i=1}^n\\mathbb{I}_{h(x_i)\\neq c(x_i)}$$"
   ]
  },
  {
   "cell_type": "markdown",
   "metadata": {},
   "source": [
    "## Theorems\n",
    "\n",
    "### Learning bound - finite $\\mathcal{H}$  \n",
    "**Proposition** Let $\\mathcal{H}$ be a finite set of functions $\\mathcal{X}\\rightarrow\\mathcal{Y}$. Let $\\mathcal{A}$ be an algorithm that returns a consistent hypothesis $h_\\mathcal{S}:\\hat{R}_\\mathcal{S}(h_\\mathcal{S})=0$ for any target concept and i.i.d sample. Then if   \n",
    "\n",
    "$$n\\geq\\frac{1}{\\epsilon}\\left(log|\\mathcal{H}|+log\\frac{1}{\\delta}\\right),$$we have for any $\\epsilon, \\delta>0$ \n",
    "\n",
    "$$\\mathbb{P}_{\\mathcal{S}\\sim\\mathcal{D}^n}\\left[R(h_\\mathcal{S})\\leq\\epsilon\\right]\\geq1-\\delta$$  \n",
    "\n",
    "<br>  \n",
    "<br>  \n",
    "\n",
    "**Proof** Define for any $\\epsilon>0$, $\\mathcal{H}_\\epsilon=\\{h\\in\\mathcal{H}:R(h)>\\epsilon\\}$, then for $h_\\epsilon\\in\\mathcal{H}_\\epsilon$:  \n",
    "\n",
    "$$\\mathbb{P}\\left[\\hat{R}_\\mathcal{S}(h_\\epsilon)=0\\right]\\leq(1-\\epsilon)^n$$  \n",
    "\n",
    "Now  \n",
    "\n",
    "$$\\mathbb{P}\\left[ h \\in \\mathcal{H}_\\epsilon \\cap\\hat{R}_\\mathcal{S}(h)=0 \\right]$$  \n",
    "\n",
    "$$=\\sum_{h\\in\\mathcal{H}_\\epsilon}\\mathbb{P}\\left[\\hat{R}_\\mathcal{S}(h)=0\\right]$$  \n",
    "\n",
    "$$\\leq\\sum_{h\\in\\mathcal{H}_\\epsilon}(1-\\epsilon)^n$$  \n",
    "\n",
    "$$\\leq|\\mathcal{H}|(1-\\epsilon)^n\\leq|\\mathcal{H}|e^{-n\\epsilon}\\leq\\delta$$  \n",
    "\n",
    "where the last inequality is valid because  \n",
    "\n",
    "$$|\\mathcal{H}|e^{-n\\epsilon}\\leq\\delta$$  \n",
    "\n",
    "$$\\Leftrightarrow log|\\mathcal{H}|-n\\epsilon\\leq log(\\delta)$$  \n",
    "\n",
    "$$\\Leftrightarrow n\\geq\\frac{1}{\\epsilon}\\left(log|\\mathcal{H}|+log\\frac{1}{\\delta}\\right)$$  \n",
    "\n",
    "as required. \n",
    "\n",
    "Since   \n",
    "\n",
    "$$\\mathbb{P}\\left[ h \\in \\mathcal{H}_\\epsilon\\cap\\hat{R}_\\mathcal{S}(h)=0 \\right]=\\mathbb{P}\\left[ h \\in \\mathcal{H}_\\epsilon|\\hat{R}_\\mathcal{S}(h)=0 \\right]\\mathbb{P}\\left[\\hat{R}_\\mathcal{S}(h)=0\\right]\\leq\\delta$$  \n",
    "\n",
    "and $\\mathbb{P}\\left[\\hat{R}_\\mathcal{S}(h)=0\\right]=1$ due to required consistency, we have  \n",
    "\n",
    "$$\\mathbb{P}\\left[ h \\in \\mathcal{H}_\\epsilon|\\hat{R}_\\mathcal{S}(h)=0 \\right]+\\mathbb{P}\\left[ h \\notin \\mathcal{H}_\\epsilon|\\hat{R}_\\mathcal{S}(h)=0 \\right]=1$$\n",
    "\n",
    "and finally \n",
    "\n",
    "$$\\mathbb{P}\\left[ h \\notin \\mathcal{H}_\\epsilon|\\hat{R}_\\mathcal{S}(h)=0 \\right]\\geq1-\\delta\\quad\\square$$\n",
    " "
   ]
  },
  {
   "cell_type": "markdown",
   "metadata": {},
   "source": [
    "# Sources "
   ]
  },
  {
   "cell_type": "markdown",
   "metadata": {},
   "source": [
    "- Mohri, Mehryar, Afshin Rostamizadeh, and Ameet Talwalkar. Foundations of machine learning. MIT press, 2018."
   ]
  }
 ],
 "metadata": {
  "kernelspec": {
   "display_name": "Julia 1.4.2",
   "language": "julia",
   "name": "julia-1.4"
  },
  "language_info": {
   "file_extension": ".jl",
   "mimetype": "application/julia",
   "name": "julia",
   "version": "1.4.2"
  }
 },
 "nbformat": 4,
 "nbformat_minor": 4
}
